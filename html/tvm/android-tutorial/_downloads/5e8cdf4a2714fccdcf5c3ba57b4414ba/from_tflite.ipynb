{
  "cells": [
    {
      "cell_type": "code",
      "execution_count": null,
      "metadata": {
        "collapsed": false
      },
      "outputs": [],
      "source": [
        "%matplotlib inline"
      ]
    },
    {
      "cell_type": "markdown",
      "metadata": {},
      "source": [
        "\nCompile TFLite Models\n===================\n**Author**: `Zhao Wu <https://github.com/FrozenGene>`_\n\nThis article is an introductory tutorial to deploy TFLite models with Relay.\n\nTo get started, Flatbuffers and TFLite package needs to be installed as prerequisites.\n\nA quick solution is to install Flatbuffers via pip\n\n.. code-block:: bash\n\n    pip install flatbuffers --user\n\nTo install TFlite packages, you could use our prebuilt wheel:\n\n.. code-block:: bash\n\n    # For python3:\n    wget https://raw.githubusercontent.com/dmlc/web-data/master/tensorflow/tflite/whl/tflite-0.0.1-py3-none-any.whl\n    pip install tflite-0.0.1-py3-none-any.whl --user\n\n    # For python2:\n    wget https://raw.githubusercontent.com/dmlc/web-data/master/tensorflow/tflite/whl/tflite-0.0.1-py2-none-any.whl\n    pip install tflite-0.0.1-py2-none-any.whl --user\n\n\nor you could generate TFLite package by yourself. The steps are as following:\n\n.. code-block:: bash\n\n    # Get the flatc compiler.\n    # Please refer to https://github.com/google/flatbuffers for details\n    # and make sure it is properly installed.\n    flatc --version\n\n    # Get the TFLite schema.\n    wget https://raw.githubusercontent.com/tensorflow/tensorflow/r1.12/tensorflow/contrib/lite/schema/schema.fbs\n\n    # Generate TFLite package.\n    flatc --python schema.fbs\n\n    # Add it to PYTHONPATH.\n    export PYTHONPATH=/path/to/tflite\n\n\nNow please check if TFLite package is installed successfully, ``python -c \"import tflite\"``\n\nBelow you can find an example for how to compile TFLite model using TVM.\n\n"
      ]
    },
    {
      "cell_type": "markdown",
      "metadata": {},
      "source": [
        "Utils for downloading and extracting zip files\n---------------------------------------------\n\n"
      ]
    },
    {
      "cell_type": "code",
      "execution_count": null,
      "metadata": {
        "collapsed": false
      },
      "outputs": [],
      "source": [
        "import os\n\ndef extract(path):\n    import tarfile\n    if path.endswith(\"tgz\") or path.endswith(\"gz\"):\n        dir_path = os.path.dirname(path)\n        tar = tarfile.open(path)\n        tar.extractall(path=dir_path)\n        tar.close()\n    else:\n        raise RuntimeError('Could not decompress the file: ' + path)"
      ]
    },
    {
      "cell_type": "markdown",
      "metadata": {},
      "source": [
        "Load pretrained TFLite model\n---------------------------------------------\nwe load mobilenet V1 TFLite model provided by Google\n\n"
      ]
    },
    {
      "cell_type": "code",
      "execution_count": null,
      "metadata": {
        "collapsed": false
      },
      "outputs": [],
      "source": [
        "from tvm.contrib.download import download_testdata\n\nmodel_url = \"http://download.tensorflow.org/models/mobilenet_v1_2018_08_02/mobilenet_v1_1.0_224.tgz\"\n\n# we download model tar file and extract, finally get mobilenet_v1_1.0_224.tflite\nmodel_path = download_testdata(model_url, \"mobilenet_v1_1.0_224.tgz\", module=['tf', 'official'])\nmodel_dir = os.path.dirname(model_path)\nextract(model_path)\n\n# now we have mobilenet_v1_1.0_224.tflite on disk and open it\ntflite_model_file = os.path.join(model_dir, \"mobilenet_v1_1.0_224.tflite\")\ntflite_model_buf = open(tflite_model_file, \"rb\").read()\n\n# get TFLite model from buffer\nimport tflite.Model\ntflite_model = tflite.Model.Model.GetRootAsModel(tflite_model_buf, 0)"
      ]
    },
    {
      "cell_type": "markdown",
      "metadata": {},
      "source": [
        "Load a test image\n---------------------------------------------\nA single cat dominates the examples!\n\n"
      ]
    },
    {
      "cell_type": "code",
      "execution_count": null,
      "metadata": {
        "collapsed": false
      },
      "outputs": [],
      "source": [
        "from PIL import Image\nfrom matplotlib import pyplot as plt\nimport numpy as np\n\nimage_url = 'https://github.com/dmlc/mxnet.js/blob/master/data/cat.png?raw=true'\nimage_path = download_testdata(image_url, 'cat.png', module='data')\nresized_image = Image.open(image_path).resize((224, 224))\nplt.imshow(resized_image)\nplt.show()\nimage_data = np.asarray(resized_image).astype(\"float32\")\n\n# convert HWC to CHW\nimage_data = image_data.transpose((2, 0, 1))\n\n# after expand_dims, we have format NCHW\nimage_data = np.expand_dims(image_data, axis=0)\n\n# preprocess image as described here:\n# https://github.com/tensorflow/models/blob/edb6ed22a801665946c63d650ab9a0b23d98e1b1/research/slim/preprocessing/inception_preprocessing.py#L243\nimage_data[:, 0, :, :] = 2.0 / 255.0 * image_data[:, 0, :, :] - 1\nimage_data[:, 1, :, :] = 2.0 / 255.0 * image_data[:, 1, :, :] - 1\nimage_data[:, 2, :, :] = 2.0 / 255.0 * image_data[:, 2, :, :] - 1\nprint('input', image_data.shape)"
      ]
    },
    {
      "cell_type": "markdown",
      "metadata": {},
      "source": [
        "<div class=\"alert alert-info\"><h4>Note</h4><p>Input layout:\n\n  Currently, TVM TFLite frontend accepts ``NCHW`` as input layout.</p></div>\n\n"
      ]
    },
    {
      "cell_type": "markdown",
      "metadata": {},
      "source": [
        "Compile the model with relay\n---------------------------------------------\n\n"
      ]
    },
    {
      "cell_type": "code",
      "execution_count": null,
      "metadata": {
        "collapsed": false
      },
      "outputs": [],
      "source": [
        "# TFLite input tensor name, shape and type\ninput_tensor = \"input\"\ninput_shape = (1, 3, 224, 224)\ninput_dtype = \"float32\"\n\n# parse TFLite model and convert into Relay computation graph\nfrom tvm import relay\nfunc, params = relay.frontend.from_tflite(tflite_model,\n                                          shape_dict={input_tensor: input_shape},\n                                          dtype_dict={input_tensor: input_dtype})\n\n# targt x86 cpu\ntarget = \"llvm\"\nwith relay.build_module.build_config(opt_level=3):\n    graph, lib, params = relay.build(func, target, params=params)"
      ]
    },
    {
      "cell_type": "markdown",
      "metadata": {},
      "source": [
        "Execute on TVM\n---------------------------------------------\n\n"
      ]
    },
    {
      "cell_type": "code",
      "execution_count": null,
      "metadata": {
        "collapsed": false
      },
      "outputs": [],
      "source": [
        "import tvm\nfrom tvm.contrib import graph_runtime as runtime\n\n# create a runtime executor module\nmodule = runtime.create(graph, lib, tvm.cpu())\n\n# feed input data\nmodule.set_input(input_tensor, tvm.nd.array(image_data))\n\n# feed related params\nmodule.set_input(**params)\n\n# run\nmodule.run()\n\n# get output\ntvm_output = module.get_output(0).asnumpy()"
      ]
    },
    {
      "cell_type": "markdown",
      "metadata": {},
      "source": [
        "Display results\n---------------------------------------------\n\n"
      ]
    },
    {
      "cell_type": "code",
      "execution_count": null,
      "metadata": {
        "collapsed": false
      },
      "outputs": [],
      "source": [
        "# load label file\nlabel_file_url = ''.join(['https://raw.githubusercontent.com/',\n                          'tensorflow/tensorflow/master/tensorflow/lite/java/demo/',\n                          'app/src/main/assets/',\n                          'labels_mobilenet_quant_v1_224.txt'])\nlabel_file = \"labels_mobilenet_quant_v1_224.txt\"\nlabel_path = download_testdata(label_file_url, label_file, module='data')\n\n# map id to 1001 classes\nlabels = dict()\nwith open(label_path) as f:\n    for id, line in enumerate(f):\n        labels[id] = line\n\n# convert result to 1D data\npredictions = np.squeeze(tvm_output)\n\n# get top 1 prediction\nprediction = np.argmax(predictions)\n\n# convert id to class name and show the result\nprint(\"The image prediction result is: id \" + str(prediction) + \" name: \" + labels[prediction])"
      ]
    }
  ],
  "metadata": {
    "kernelspec": {
      "display_name": "Python 3",
      "language": "python",
      "name": "python3"
    },
    "language_info": {
      "codemirror_mode": {
        "name": "ipython",
        "version": 3
      },
      "file_extension": ".py",
      "mimetype": "text/x-python",
      "name": "python",
      "nbconvert_exporter": "python",
      "pygments_lexer": "ipython3",
      "version": "3.6.7"
    }
  },
  "nbformat": 4,
  "nbformat_minor": 0
}