{
  "cells": [
    {
      "cell_type": "code",
      "execution_count": null,
      "metadata": {
        "collapsed": false
      },
      "outputs": [],
      "source": [
        "%matplotlib inline"
      ]
    },
    {
      "cell_type": "markdown",
      "metadata": {},
      "source": [
        "\nDeploy Single Shot Multibox Detector(SSD) model\n===============================================\n**Author**: `Yao Wang <https://github.com/kevinthesun>`_\n\nThis article is an introductory tutorial to deploy SSD models with TVM.\nWe will use GluonCV pre-trained SSD model and convert it to Relay IR\n\n"
      ]
    },
    {
      "cell_type": "code",
      "execution_count": null,
      "metadata": {
        "collapsed": false
      },
      "outputs": [],
      "source": [
        "import tvm\n\nfrom matplotlib import pyplot as plt\nfrom tvm.relay.testing.config import ctx_list\nfrom tvm import relay\nfrom tvm.contrib import graph_runtime\nfrom tvm.contrib.download import download_testdata\nfrom gluoncv import model_zoo, data, utils"
      ]
    },
    {
      "cell_type": "markdown",
      "metadata": {},
      "source": [
        "Preliminary and Set parameters\n------------------------------\n<div class=\"alert alert-info\"><h4>Note</h4><p>Currently we support compiling SSD on CPU only.\n  GPU support is in progress.\n\n  To get best inference performance on CPU, change\n  target argument according to your device and\n  follow the `tune_relay_x86` to tune x86 CPU and\n  `tune_relay_arm` for arm cpu.\n\n  SSD with VGG as body network is not supported yet since\n  x86 conv2d schedule doesn't support dilation.</p></div>\n\n"
      ]
    },
    {
      "cell_type": "code",
      "execution_count": null,
      "metadata": {
        "collapsed": false
      },
      "outputs": [],
      "source": [
        "supported_model = [\n    'ssd_512_resnet18_v1_voc',\n    'ssd_512_resnet18_v1_coco',\n    'ssd_512_resnet50_v1_voc',\n    'ssd_512_resnet50_v1_coco',\n    'ssd_512_resnet101_v2_voc',\n    'ssd_512_mobilenet1_0_voc',\n    'ssd_512_mobilenet1_0_coco',\n]\n\nmodel_name = \"ssd_512_resnet50_v1_voc\"\ndshape = (1, 3, 512, 512)\ndtype = \"float32\"\ntarget_list = ctx_list()"
      ]
    },
    {
      "cell_type": "markdown",
      "metadata": {},
      "source": [
        "Download and pre-process demo image\n\n"
      ]
    },
    {
      "cell_type": "code",
      "execution_count": null,
      "metadata": {
        "collapsed": false
      },
      "outputs": [],
      "source": [
        "im_fname = download_testdata('https://github.com/dmlc/web-data/blob/master/' +\n                             'gluoncv/detection/street_small.jpg?raw=true',\n                             'street_small.jpg', module='data')\nx, img = data.transforms.presets.ssd.load_test(im_fname, short=512)"
      ]
    },
    {
      "cell_type": "markdown",
      "metadata": {},
      "source": [
        "Convert and compile model for CPU.\n\n"
      ]
    },
    {
      "cell_type": "code",
      "execution_count": null,
      "metadata": {
        "collapsed": false
      },
      "outputs": [],
      "source": [
        "block = model_zoo.get_model(model_name, pretrained=True)\n\ndef compile(target):\n    net, params = relay.frontend.from_mxnet(block, {\"data\": dshape})\n    with relay.build_config(opt_level=3):\n        graph, lib, params = relay.build(net, target, params=params)\n    return graph, lib, params"
      ]
    },
    {
      "cell_type": "markdown",
      "metadata": {},
      "source": [
        "Create TVM runtime and do inference\n\n"
      ]
    },
    {
      "cell_type": "code",
      "execution_count": null,
      "metadata": {
        "collapsed": false
      },
      "outputs": [],
      "source": [
        "def run(graph, lib, params, ctx):\n    # Build TVM runtime\n    m = graph_runtime.create(graph, lib, ctx)\n    tvm_input = tvm.nd.array(x.asnumpy(), ctx=ctx)\n    m.set_input('data', tvm_input)\n    m.set_input(**params)\n    # execute\n    m.run()\n    # get outputs\n    class_IDs, scores, bounding_boxs = m.get_output(0), m.get_output(1), m.get_output(2)\n    return class_IDs, scores, bounding_boxs\n\nfor target, ctx in target_list:\n    if target == \"cuda\":\n        print(\"GPU not supported yet, skip.\")\n        continue\n    graph, lib, params = compile(target)\n    class_IDs, scores, bounding_boxs = run(graph, lib, params, ctx)"
      ]
    },
    {
      "cell_type": "markdown",
      "metadata": {},
      "source": [
        "Display result\n\n"
      ]
    },
    {
      "cell_type": "code",
      "execution_count": null,
      "metadata": {
        "collapsed": false
      },
      "outputs": [],
      "source": [
        "ax = utils.viz.plot_bbox(img, bounding_boxs.asnumpy()[0], scores.asnumpy()[0],\n                         class_IDs.asnumpy()[0], class_names=block.classes)\nplt.show()"
      ]
    }
  ],
  "metadata": {
    "kernelspec": {
      "display_name": "Python 3",
      "language": "python",
      "name": "python3"
    },
    "language_info": {
      "codemirror_mode": {
        "name": "ipython",
        "version": 3
      },
      "file_extension": ".py",
      "mimetype": "text/x-python",
      "name": "python",
      "nbconvert_exporter": "python",
      "pygments_lexer": "ipython3",
      "version": "3.6.7"
    }
  },
  "nbformat": 4,
  "nbformat_minor": 0
}