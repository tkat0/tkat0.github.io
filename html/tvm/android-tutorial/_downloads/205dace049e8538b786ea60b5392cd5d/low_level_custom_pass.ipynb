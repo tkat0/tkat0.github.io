{
  "cells": [
    {
      "cell_type": "code",
      "execution_count": null,
      "metadata": {
        "collapsed": false
      },
      "outputs": [],
      "source": [
        "%matplotlib inline"
      ]
    },
    {
      "cell_type": "markdown",
      "metadata": {},
      "source": [
        "\nWriting a Customized Pass\n=========================\n**Author**: `Jian Weng <https://were.github.io>`_\n\nTVM is a framework that abstracts away the heterogenity of machine learning accelerators.\nSometimes users may want customize some analysis and IR transformations\nto adapt TVM to their own specialized hardware. This tutorial helps users write\na customized pass in TVM.\n\nPrerequisites\n-------------\n\nBefore reading this tutorial, we assume readers have already known these topics well:\n\n- Writing an algorithm in TVM and schedule it. Otherwise, see example tutorials like\n  `opt-gemm`.\n- The basic structure of HalideIR. Otherwise, see ``HalideIR/src/ir/IR.h`` to learn what\n  attributes of IR nodes are defined.\n- Visitor design pattern. Otherwise, check the\n  `Python AST module <https://docs.python.org/3/library/ast.html>`_ to see how an AST\n  visitor is implemented.\n- How a HalideIR/Schedule is lowered to either a LoweredFunc class or a LLVM module. Otherwise,\n  take a look at ``python/tvm/build_module.py`` to get some basics.\n\n\n"
      ]
    },
    {
      "cell_type": "code",
      "execution_count": null,
      "metadata": {
        "collapsed": false
      },
      "outputs": [],
      "source": [
        "from __future__ import absolute_import, print_function\nimport tvm\nimport numpy as np"
      ]
    },
    {
      "cell_type": "markdown",
      "metadata": {},
      "source": [
        "We first write a very simple vector add and build it with the default schedule. Then, we use\nour customized lowering pass to manipulate the IR directly instead of using schedule primitives.\n\n\n"
      ]
    },
    {
      "cell_type": "code",
      "execution_count": null,
      "metadata": {
        "collapsed": false
      },
      "outputs": [],
      "source": [
        "n = tvm.const(128, \"int32\")\na = tvm.placeholder((n, ), name=\"a\")\nb = tvm.placeholder((n, ), name=\"b\")\nc = tvm.compute((n, ), lambda i: a[i] + b[i], name='c')\n\nsch = tvm.create_schedule(c.op)\nir  = tvm.lower(sch, [a, b, c], simple_mode=True)\nprint(ir)"
      ]
    },
    {
      "cell_type": "markdown",
      "metadata": {},
      "source": [
        "Writing a Pass\n--------------\nEssentially, an \"IR transformation pass\" is a function which maps a statement to a new statement.\nThus, we define this vectorize function and implement it step by step.\n\n\n"
      ]
    },
    {
      "cell_type": "markdown",
      "metadata": {},
      "source": [
        "TVM already provides two class for users to both analyze and transform IR.\n\nIR Visitor\n~~~~~~~~~~\nWe can use ``tvm.ir_pass.PostOrderVisit(stmt, func)`` to gather information from the Halide IR.\n``func`` is a function callback. This function will be called before exiting the current IR node,\ni.e. post-order visit. Then we leverage side effects to store the result of IR visit, because the\nreturn value of ``func`` will be ignored.\n\n<div class=\"alert alert-info\"><h4>Note</h4><p>You MUST use some array to store the result of IR visit. Even the value is a single variable.\n    This is mainly due to the constraints in the Python-C runtime. The variable values will be\n    refreshed every recursion but the array values will be preserved.</p></div>\n\n\n"
      ]
    },
    {
      "cell_type": "code",
      "execution_count": null,
      "metadata": {
        "collapsed": false
      },
      "outputs": [],
      "source": [
        "loops = []\ndef find_width8(op):\n    \"\"\" Find all the 'For' nodes whose extent can be divided by 8. \"\"\"\n    if isinstance(op, tvm.stmt.For):\n        if isinstance(op.extent, tvm.expr.IntImm):\n            if op.extent.value % 8 == 0:\n                loops.append(op)"
      ]
    },
    {
      "cell_type": "markdown",
      "metadata": {},
      "source": [
        "IR Transformation\n~~~~~~~~~~~~~~~~~\nThe transformation interface is slightly different from the visitor interface. There is only a\npost-order callback in the visitor, but transformation visitor supports both a pre-order and a\npost-order callback. If you want to keep the origin IR node, just return None. If you want to\nchange the current node to some node, use TVM IR maker interface to build it and return\nthis value.\n\n<div class=\"alert alert-info\"><h4>Note</h4><p>If the pre-order function is called and returns a value which is not None, the post-order\n    function will be skipped.</p></div>\n\n\n"
      ]
    },
    {
      "cell_type": "code",
      "execution_count": null,
      "metadata": {
        "collapsed": false
      },
      "outputs": [],
      "source": [
        "def vectorize8(op):\n    \"\"\" Split can vectorize the loops found in `find_width8`. \"\"\"\n    if op in loops:\n        extent = op.extent.value\n        name = op.loop_var.name\n        lo, li = tvm.var(name + '.outer'), tvm.var(name + '.inner')\n        body = tvm.ir_pass.Substitute(op.body, {op.loop_var: lo * 8 + li})\n        body = tvm.make.For(li, 0, 8, tvm.stmt.For.Vectorized, 0, body)\n        body = tvm.make.For(lo, 0, extent // 8, tvm.stmt.For.Serial, 0, body)\n        return body\n    return None\n\ndef vectorize(stmt):\n    global loops\n\n    tvm.ir_pass.PostOrderVisit(stmt, find_width8)\n\n    if not loops:\n        return stmt\n\n    # The last list arugment indicates what kinds of nodes will be transformed.\n    # Thus, in this case only `For` nodes will call `vectorize8`\n    stmt = tvm.ir_pass.IRTransform(stmt, None, vectorize8, ['For'])\n\n    return stmt"
      ]
    },
    {
      "cell_type": "markdown",
      "metadata": {},
      "source": [
        "Glue to Lowering\n----------------\nSo far, we are done with writing this IR transformation pass. What we need to do next is to glue\nthis pass to TVM's lower pass. We can first call this function directly as a sanity check.\n\n\n"
      ]
    },
    {
      "cell_type": "code",
      "execution_count": null,
      "metadata": {
        "collapsed": false
      },
      "outputs": [],
      "source": [
        "print(vectorize(ir))"
      ]
    },
    {
      "cell_type": "markdown",
      "metadata": {},
      "source": [
        "In TVM, there is a property called ``BuildConfig``. You can use this property to customize your\nown lowering options. In this case, we inject the pass written above into the TVM standard lowering\npass by feeding **a list of tuple** as argument to ``add_lower_pass``. \"Tuple\" indicates different\nphases of lowering. In TVM, there are four phases of lowering and user-customized ones will be\ncalled after each phase is done.\n\n<div class=\"alert alert-info\"><h4>Note</h4><p>Here are the essential transformations done by each phase:\n      - Phase 0 generates the raw IR and loop levels.\n      - Phase 1 flattens the array storage.\n      - Phase 2 transforms loops, like unroll, vectorization and thread-binding.\n      - Phase 3 does some cleanup work.</p></div>\n\nThus, a good place to put this transformation pass is just after Phase 1.\n\n\n"
      ]
    },
    {
      "cell_type": "code",
      "execution_count": null,
      "metadata": {
        "collapsed": false
      },
      "outputs": [],
      "source": [
        "with tvm.build_config(add_lower_pass=[(1, vectorize)]) as cfg:\n    print(tvm.lower(sch, [a, b, c], simple_mode=True))"
      ]
    },
    {
      "cell_type": "markdown",
      "metadata": {},
      "source": [
        "Quick View\n----------\nThis tutorial gives a quick view of writing a customized IR transformation pass:\n- Use ``tvm.ir_pass.PostOrderVisit`` to gather information on each IR nodes.\n- Use ``tvm.ir_pass.IRTransform`` to transform IR nodes.\n- Wrap up two above to write an IR-transformation function.\n- Use ``tvm.build_config`` to put this function to TVM lowering pass\n\n\n"
      ]
    }
  ],
  "metadata": {
    "kernelspec": {
      "display_name": "Python 3",
      "language": "python",
      "name": "python3"
    },
    "language_info": {
      "codemirror_mode": {
        "name": "ipython",
        "version": 3
      },
      "file_extension": ".py",
      "mimetype": "text/x-python",
      "name": "python",
      "nbconvert_exporter": "python",
      "pygments_lexer": "ipython3",
      "version": "3.6.7"
    }
  },
  "nbformat": 4,
  "nbformat_minor": 0
}